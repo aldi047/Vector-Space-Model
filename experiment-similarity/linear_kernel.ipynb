{
 "cells": [
  {
   "cell_type": "code",
   "execution_count": 70,
   "metadata": {},
   "outputs": [],
   "source": [
    "import pandas as pd"
   ]
  },
  {
   "cell_type": "code",
   "execution_count": 71,
   "metadata": {},
   "outputs": [],
   "source": [
    "from sklearn.feature_extraction.text import TfidfVectorizer\n",
    "\n",
    "from sklearn.metrics.pairwise import linear_kernel"
   ]
  },
  {
   "cell_type": "code",
   "execution_count": 72,
   "metadata": {},
   "outputs": [],
   "source": [
    "df=pd.read_csv('sample-data.csv')"
   ]
  },
  {
   "cell_type": "markdown",
   "metadata": {},
   "source": [
    "#  Dataset berisi item pada e-commerce"
   ]
  },
  {
   "cell_type": "code",
   "execution_count": 73,
   "metadata": {},
   "outputs": [
    {
     "data": {
      "text/html": [
       "<div>\n",
       "<style scoped>\n",
       "    .dataframe tbody tr th:only-of-type {\n",
       "        vertical-align: middle;\n",
       "    }\n",
       "\n",
       "    .dataframe tbody tr th {\n",
       "        vertical-align: top;\n",
       "    }\n",
       "\n",
       "    .dataframe thead th {\n",
       "        text-align: right;\n",
       "    }\n",
       "</style>\n",
       "<table border=\"1\" class=\"dataframe\">\n",
       "  <thead>\n",
       "    <tr style=\"text-align: right;\">\n",
       "      <th></th>\n",
       "      <th>id</th>\n",
       "      <th>description</th>\n",
       "    </tr>\n",
       "  </thead>\n",
       "  <tbody>\n",
       "    <tr>\n",
       "      <th>0</th>\n",
       "      <td>1</td>\n",
       "      <td>Active classic boxers - There's a reason why o...</td>\n",
       "    </tr>\n",
       "    <tr>\n",
       "      <th>1</th>\n",
       "      <td>2</td>\n",
       "      <td>Active sport boxer briefs - Skinning up Glory ...</td>\n",
       "    </tr>\n",
       "    <tr>\n",
       "      <th>2</th>\n",
       "      <td>3</td>\n",
       "      <td>Active sport briefs - These superbreathable no...</td>\n",
       "    </tr>\n",
       "    <tr>\n",
       "      <th>3</th>\n",
       "      <td>4</td>\n",
       "      <td>Alpine guide pants - Skin in, climb ice, switc...</td>\n",
       "    </tr>\n",
       "    <tr>\n",
       "      <th>4</th>\n",
       "      <td>5</td>\n",
       "      <td>Alpine wind jkt - On high ridges, steep ice an...</td>\n",
       "    </tr>\n",
       "  </tbody>\n",
       "</table>\n",
       "</div>"
      ],
      "text/plain": [
       "   id                                        description\n",
       "0   1  Active classic boxers - There's a reason why o...\n",
       "1   2  Active sport boxer briefs - Skinning up Glory ...\n",
       "2   3  Active sport briefs - These superbreathable no...\n",
       "3   4  Alpine guide pants - Skin in, climb ice, switc...\n",
       "4   5  Alpine wind jkt - On high ridges, steep ice an..."
      ]
     },
     "execution_count": 73,
     "metadata": {},
     "output_type": "execute_result"
    }
   ],
   "source": [
    "df.head()"
   ]
  },
  {
   "cell_type": "code",
   "execution_count": 74,
   "metadata": {},
   "outputs": [
    {
     "data": {
      "text/plain": [
       "(500, 2)"
      ]
     },
     "execution_count": 74,
     "metadata": {},
     "output_type": "execute_result"
    }
   ],
   "source": [
    "df.shape"
   ]
  },
  {
   "cell_type": "code",
   "execution_count": 75,
   "metadata": {},
   "outputs": [],
   "source": [
    "tf=TfidfVectorizer(analyzer='word', ngram_range=(1, 3), min_df=2, stop_words='english')"
   ]
  },
  {
   "cell_type": "code",
   "execution_count": 76,
   "metadata": {},
   "outputs": [],
   "source": [
    "tfidf_matrix = tf.fit_transform(df['description'])"
   ]
  },
  {
   "cell_type": "markdown",
   "metadata": {},
   "source": [
    "# Menghitung similarity dengan linear_kernel"
   ]
  },
  {
   "cell_type": "code",
   "execution_count": 77,
   "metadata": {},
   "outputs": [
    {
     "data": {
      "text/html": [
       "<div>\n",
       "<style scoped>\n",
       "    .dataframe tbody tr th:only-of-type {\n",
       "        vertical-align: middle;\n",
       "    }\n",
       "\n",
       "    .dataframe tbody tr th {\n",
       "        vertical-align: top;\n",
       "    }\n",
       "\n",
       "    .dataframe thead th {\n",
       "        text-align: right;\n",
       "    }\n",
       "</style>\n",
       "<table border=\"1\" class=\"dataframe\">\n",
       "  <thead>\n",
       "    <tr style=\"text-align: right;\">\n",
       "      <th></th>\n",
       "      <th>0</th>\n",
       "      <th>1</th>\n",
       "      <th>2</th>\n",
       "      <th>3</th>\n",
       "      <th>4</th>\n",
       "      <th>5</th>\n",
       "      <th>6</th>\n",
       "      <th>7</th>\n",
       "      <th>8</th>\n",
       "      <th>9</th>\n",
       "      <th>...</th>\n",
       "      <th>490</th>\n",
       "      <th>491</th>\n",
       "      <th>492</th>\n",
       "      <th>493</th>\n",
       "      <th>494</th>\n",
       "      <th>495</th>\n",
       "      <th>496</th>\n",
       "      <th>497</th>\n",
       "      <th>498</th>\n",
       "      <th>499</th>\n",
       "    </tr>\n",
       "  </thead>\n",
       "  <tbody>\n",
       "    <tr>\n",
       "      <th>0</th>\n",
       "      <td>1.000000</td>\n",
       "      <td>0.196118</td>\n",
       "      <td>0.121321</td>\n",
       "      <td>0.086417</td>\n",
       "      <td>0.068012</td>\n",
       "      <td>0.088305</td>\n",
       "      <td>0.078842</td>\n",
       "      <td>0.050725</td>\n",
       "      <td>0.128312</td>\n",
       "      <td>0.048336</td>\n",
       "      <td>...</td>\n",
       "      <td>0.092937</td>\n",
       "      <td>0.066059</td>\n",
       "      <td>0.092737</td>\n",
       "      <td>0.293950</td>\n",
       "      <td>0.278143</td>\n",
       "      <td>0.233109</td>\n",
       "      <td>0.188449</td>\n",
       "      <td>0.121974</td>\n",
       "      <td>0.125661</td>\n",
       "      <td>0.133845</td>\n",
       "    </tr>\n",
       "    <tr>\n",
       "      <th>1</th>\n",
       "      <td>0.196118</td>\n",
       "      <td>1.000000</td>\n",
       "      <td>0.695617</td>\n",
       "      <td>0.077343</td>\n",
       "      <td>0.077285</td>\n",
       "      <td>0.073488</td>\n",
       "      <td>0.080167</td>\n",
       "      <td>0.044179</td>\n",
       "      <td>0.064716</td>\n",
       "      <td>0.049612</td>\n",
       "      <td>...</td>\n",
       "      <td>0.073215</td>\n",
       "      <td>0.048985</td>\n",
       "      <td>0.080057</td>\n",
       "      <td>0.174481</td>\n",
       "      <td>0.128445</td>\n",
       "      <td>0.112176</td>\n",
       "      <td>0.078285</td>\n",
       "      <td>0.063170</td>\n",
       "      <td>0.118427</td>\n",
       "      <td>0.110925</td>\n",
       "    </tr>\n",
       "    <tr>\n",
       "      <th>2</th>\n",
       "      <td>0.121321</td>\n",
       "      <td>0.695617</td>\n",
       "      <td>1.000000</td>\n",
       "      <td>0.068405</td>\n",
       "      <td>0.081629</td>\n",
       "      <td>0.079271</td>\n",
       "      <td>0.089965</td>\n",
       "      <td>0.080852</td>\n",
       "      <td>0.073424</td>\n",
       "      <td>0.077773</td>\n",
       "      <td>...</td>\n",
       "      <td>0.069200</td>\n",
       "      <td>0.049786</td>\n",
       "      <td>0.071394</td>\n",
       "      <td>0.121983</td>\n",
       "      <td>0.189902</td>\n",
       "      <td>0.088524</td>\n",
       "      <td>0.082306</td>\n",
       "      <td>0.058370</td>\n",
       "      <td>0.074918</td>\n",
       "      <td>0.083148</td>\n",
       "    </tr>\n",
       "    <tr>\n",
       "      <th>3</th>\n",
       "      <td>0.086417</td>\n",
       "      <td>0.077343</td>\n",
       "      <td>0.068405</td>\n",
       "      <td>1.000000</td>\n",
       "      <td>0.108530</td>\n",
       "      <td>0.156714</td>\n",
       "      <td>0.098313</td>\n",
       "      <td>0.036936</td>\n",
       "      <td>0.081906</td>\n",
       "      <td>0.062901</td>\n",
       "      <td>...</td>\n",
       "      <td>0.054098</td>\n",
       "      <td>0.039758</td>\n",
       "      <td>0.055814</td>\n",
       "      <td>0.083025</td>\n",
       "      <td>0.069978</td>\n",
       "      <td>0.076900</td>\n",
       "      <td>0.058112</td>\n",
       "      <td>0.106214</td>\n",
       "      <td>0.066971</td>\n",
       "      <td>0.082256</td>\n",
       "    </tr>\n",
       "    <tr>\n",
       "      <th>4</th>\n",
       "      <td>0.068012</td>\n",
       "      <td>0.077285</td>\n",
       "      <td>0.081629</td>\n",
       "      <td>0.108530</td>\n",
       "      <td>1.000000</td>\n",
       "      <td>0.162394</td>\n",
       "      <td>0.113159</td>\n",
       "      <td>0.034384</td>\n",
       "      <td>0.073478</td>\n",
       "      <td>0.079233</td>\n",
       "      <td>...</td>\n",
       "      <td>0.045383</td>\n",
       "      <td>0.032701</td>\n",
       "      <td>0.054805</td>\n",
       "      <td>0.061714</td>\n",
       "      <td>0.060014</td>\n",
       "      <td>0.061122</td>\n",
       "      <td>0.069141</td>\n",
       "      <td>0.146984</td>\n",
       "      <td>0.055967</td>\n",
       "      <td>0.072030</td>\n",
       "    </tr>\n",
       "  </tbody>\n",
       "</table>\n",
       "<p>5 rows × 500 columns</p>\n",
       "</div>"
      ],
      "text/plain": [
       "        0         1         2         3         4         5         6    \\\n",
       "0  1.000000  0.196118  0.121321  0.086417  0.068012  0.088305  0.078842   \n",
       "1  0.196118  1.000000  0.695617  0.077343  0.077285  0.073488  0.080167   \n",
       "2  0.121321  0.695617  1.000000  0.068405  0.081629  0.079271  0.089965   \n",
       "3  0.086417  0.077343  0.068405  1.000000  0.108530  0.156714  0.098313   \n",
       "4  0.068012  0.077285  0.081629  0.108530  1.000000  0.162394  0.113159   \n",
       "\n",
       "        7         8         9    ...       490       491       492       493  \\\n",
       "0  0.050725  0.128312  0.048336  ...  0.092937  0.066059  0.092737  0.293950   \n",
       "1  0.044179  0.064716  0.049612  ...  0.073215  0.048985  0.080057  0.174481   \n",
       "2  0.080852  0.073424  0.077773  ...  0.069200  0.049786  0.071394  0.121983   \n",
       "3  0.036936  0.081906  0.062901  ...  0.054098  0.039758  0.055814  0.083025   \n",
       "4  0.034384  0.073478  0.079233  ...  0.045383  0.032701  0.054805  0.061714   \n",
       "\n",
       "        494       495       496       497       498       499  \n",
       "0  0.278143  0.233109  0.188449  0.121974  0.125661  0.133845  \n",
       "1  0.128445  0.112176  0.078285  0.063170  0.118427  0.110925  \n",
       "2  0.189902  0.088524  0.082306  0.058370  0.074918  0.083148  \n",
       "3  0.069978  0.076900  0.058112  0.106214  0.066971  0.082256  \n",
       "4  0.060014  0.061122  0.069141  0.146984  0.055967  0.072030  \n",
       "\n",
       "[5 rows x 500 columns]"
      ]
     },
     "execution_count": 77,
     "metadata": {},
     "output_type": "execute_result"
    }
   ],
   "source": [
    "similarities = linear_kernel(tfidf_matrix, tfidf_matrix)\n",
    "similarities_df = pd.DataFrame(similarities)\n",
    "similarities_df.head()"
   ]
  },
  {
   "cell_type": "code",
   "execution_count": 78,
   "metadata": {},
   "outputs": [],
   "source": [
    "results = {}"
   ]
  },
  {
   "cell_type": "code",
   "execution_count": 79,
   "metadata": {},
   "outputs": [],
   "source": [
    "for idx, row in df.iterrows():\n",
    "    similar_indices = similarities[idx].argsort()[:-100:-1]\n",
    "    similar_items = [(similarities[idx][i], df['id'][i]) for i in similar_indices]\n",
    "\n",
    "    # Hapus dari sendiri dari list\n",
    "    results[row['id']] = similar_items[1:]"
   ]
  },
  {
   "cell_type": "code",
   "execution_count": 80,
   "metadata": {},
   "outputs": [
    {
     "name": "stdout",
     "output_type": "stream",
     "text": [
      "Training Selesai!\n"
     ]
    }
   ],
   "source": [
    "print('Training Selesai!')"
   ]
  },
  {
   "cell_type": "code",
   "execution_count": 81,
   "metadata": {},
   "outputs": [],
   "source": [
    "def item(id):\n",
    "    return df.loc[df['id'] == id]['description'].tolist()[0].split(' - ')[0]"
   ]
  },
  {
   "cell_type": "code",
   "execution_count": 82,
   "metadata": {},
   "outputs": [],
   "source": [
    "def recommend(id, num):\n",
    "    print(\"Daftar rekomendasi \" + str(num) + \" produk yang mirip dengan \" + item(id) + \"\\n\")\n",
    "    recs = results[id][:num]\n",
    "    for rec in recs:\n",
    "        print(item(rec[1]) + \" (score:\" + str(rec[0]) + \")\")"
   ]
  },
  {
   "cell_type": "markdown",
   "metadata": {},
   "source": [
    "# By picking the product from the users search history we can find the recommended products using the item_id and the no of recommended results we desire by adjusting the num parameter"
   ]
  },
  {
   "cell_type": "code",
   "execution_count": 83,
   "metadata": {},
   "outputs": [
    {
     "name": "stdout",
     "output_type": "stream",
     "text": [
      "Daftar rekomendasi 5 produk yang mirip dengan Ascensionist jkt\n",
      "\n",
      "Guide jkt (score:0.4371855403015607)\n",
      "Guide jkt (score:0.4254255141781973)\n",
      "Microburst jkt (score:0.3254793520018468)\n",
      "Rain shadow jkt (score:0.2575781874760667)\n",
      "All-time shell (score:0.24663242083671605)\n"
     ]
    }
   ],
   "source": [
    "recommend(id=6, num=5)"
   ]
  },
  {
   "cell_type": "code",
   "execution_count": null,
   "metadata": {},
   "outputs": [],
   "source": []
  }
 ],
 "metadata": {
  "kernelspec": {
   "display_name": "virtualenv",
   "language": "python",
   "name": "virtualenv"
  },
  "language_info": {
   "codemirror_mode": {
    "name": "ipython",
    "version": 3
   },
   "file_extension": ".py",
   "mimetype": "text/x-python",
   "name": "python",
   "nbconvert_exporter": "python",
   "pygments_lexer": "ipython3",
   "version": "3.10.12"
  }
 },
 "nbformat": 4,
 "nbformat_minor": 4
}
